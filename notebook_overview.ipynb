{
 "cells": [
  {
   "cell_type": "code",
   "execution_count": 1,
   "metadata": {},
   "outputs": [],
   "source": [
    "from robustbench.data import load_cifar10\n",
    "from robustbench.data import load_cifar10c\n",
    "from robustbench.utils import clean_accuracy\n",
    "from robustbench.utils import load_model\n",
    "import foolbox as fb\n",
    "from autoattack import AutoAttack\n",
    "import torch"
   ]
  },
  {
   "cell_type": "code",
   "execution_count": 2,
   "metadata": {},
   "outputs": [],
   "source": [
    "def pgd_attack(model_name:str, dataset:str, threat_model:str):\n",
    "    x_test, y_test = load_cifar10(n_examples=50)\n",
    "    model = load_model(model_name=model_name, dataset=dataset, threat_model=threat_model)\n",
    "    fmodel = fb.PyTorchModel(model, bounds=(0, 1))\n",
    "    _, advs, success = fb.attacks.LinfPGD()(fmodel, x_test.to('cuda:0'), y_test.to('cuda:0'), epsilons=[8/255])\n",
    "    print('Robust accuracy: {:.1%}'.format(1 - success.float().mean()))"
   ]
  },
  {
   "cell_type": "code",
   "execution_count": 3,
   "metadata": {},
   "outputs": [],
   "source": [
    "def auto_attack(model_name:str, dataset:str, threat_model:str, attacks:list): \n",
    "    x_test, y_test = load_cifar10(n_examples=50)\n",
    "    model = load_model(model_name=model_name, dataset=dataset, threat_model=threat_model)\n",
    "    if torch.cuda.is_available():\n",
    "        model.cuda()\n",
    "    adversary = AutoAttack(model, norm='Linf', eps=8/255, version='custom', attacks_to_run=attacks)\n",
    "    adversary.apgd.n_restarts = 1\n",
    "    x_adv = adversary.run_standard_evaluation(x_test, y_test)"
   ]
  },
  {
   "cell_type": "code",
   "execution_count": 4,
   "metadata": {},
   "outputs": [],
   "source": [
    "\n",
    "def corruption_attack(corruption_type:str, model_names:list, dataset:str, threat_model:str):\n",
    "    corruptions = [corruption_type]\n",
    "    x_test, y_test = load_cifar10c(n_examples=1000, corruptions=corruptions, severity=5)\n",
    "    for model_name in model_names:\n",
    "        model = load_model(model_name, dataset='cifar10', threat_model=threat_model)\n",
    "        acc = clean_accuracy(model, x_test, y_test)\n",
    "        print(f'Model: {model_name}, CIFAR-10-C accuracy: {acc:.1%}')"
   ]
  },
  {
   "cell_type": "code",
   "execution_count": 5,
   "metadata": {},
   "outputs": [
    {
     "name": "stdout",
     "output_type": "stream",
     "text": [
      "Files already downloaded and verified\n",
      "Robust accuracy: 62.0%\n"
     ]
    }
   ],
   "source": [
    "pgd_attack(model_name='Carmon2019Unlabeled',dataset='cifar10',threat_model='Linf')"
   ]
  },
  {
   "cell_type": "code",
   "execution_count": 6,
   "metadata": {},
   "outputs": [
    {
     "name": "stdout",
     "output_type": "stream",
     "text": [
      "Model: Standard, CIFAR-10-C accuracy: 74.4%\n",
      "Model: Engstrom2019Robustness, CIFAR-10-C accuracy: 38.8%\n"
     ]
    }
   ],
   "source": [
    "list_of_model_names = ['Standard', 'Engstrom2019Robustness'] #, 'Rice2020Overfitting','Carmon2019Unlabeled']\n",
    "corruption_attack(corruption_type='fog',model_names=list_of_model_names,dataset='cifar10',threat_model='Linf')"
   ]
  },
  {
   "cell_type": "code",
   "execution_count": 7,
   "metadata": {},
   "outputs": [
    {
     "name": "stdout",
     "output_type": "stream",
     "text": [
      "Files already downloaded and verified\n",
      "using custom version including apgd-ce, apgd-dlr\n",
      "initial accuracy: 92.00%\n",
      "apgd-ce - 1/1 - 19 out of 46 successfully perturbed\n",
      "robust accuracy after APGD-CE: 54.00% (total time 38.8 s)\n",
      "apgd-dlr - 1/1 - 1 out of 27 successfully perturbed\n",
      "robust accuracy after APGD-DLR: 52.00% (total time 62.8 s)\n",
      "max Linf perturbation: 0.03137, nan in tensor: 0, max: 1.00000, min: 0.00000\n",
      "robust accuracy: 52.00%\n"
     ]
    }
   ],
   "source": [
    "list_of_attacks = ['apgd-ce', 'apgd-dlr']\n",
    "auto_attack(model_name='Carmon2019Unlabeled',dataset='cifar10',threat_model='Linf',attacks=list_of_attacks)"
   ]
  },
  {
   "cell_type": "code",
   "execution_count": 8,
   "metadata": {},
   "outputs": [],
   "source": [
    "torch.cuda.empty_cache()"
   ]
  },
  {
   "cell_type": "code",
   "execution_count": null,
   "metadata": {},
   "outputs": [],
   "source": []
  }
 ],
 "metadata": {
  "kernelspec": {
   "display_name": "Python 3.8.8 ('env': venv)",
   "language": "python",
   "name": "python3"
  },
  "language_info": {
   "codemirror_mode": {
    "name": "ipython",
    "version": 3
   },
   "file_extension": ".py",
   "mimetype": "text/x-python",
   "name": "python",
   "nbconvert_exporter": "python",
   "pygments_lexer": "ipython3",
   "version": "3.8.8"
  },
  "orig_nbformat": 4,
  "vscode": {
   "interpreter": {
    "hash": "afd9502d6efc1e9ca4ae881c778f0a7f12a362a1c96928770e15965bbd9bec4b"
   }
  }
 },
 "nbformat": 4,
 "nbformat_minor": 2
}
